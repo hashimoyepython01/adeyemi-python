{
  "nbformat": 4,
  "nbformat_minor": 0,
  "metadata": {
    "colab": {
      "provenance": []
    },
    "kernelspec": {
      "name": "python3",
      "display_name": "Python 3"
    },
    "language_info": {
      "name": "python"
    }
  },
  "cells": [
    {
      "cell_type": "code",
      "execution_count": null,
      "metadata": {
        "colab": {
          "base_uri": "https://localhost:8080/"
        },
        "id": "9yGa4nxAfqqO",
        "outputId": "830983fe-d2e5-45f7-dc24-d2773a11fa21"
      },
      "outputs": [
        {
          "output_type": "stream",
          "name": "stdout",
          "text": [
            "36\n"
          ]
        }
      ],
      "source": [
        "ques 1\n",
        "x=(2,3,6)\n",
        "sum=1\n",
        "for i in x:\n",
        "  sum= sum * i \n",
        "print(sum )\n"
      ]
    },
    {
      "cell_type": "code",
      "source": [
        "ques 2\n",
        "#sample list : [(2, 5), (1, 2), (4, 4), (2, 3), (2, 1)]\n",
        "\n",
        "#Expected result : [(2, 1), (1, 2), (2, 3), (4, 4), (2, 5)]\n",
        "\n",
        "x=[(2, 5), (1, 2), (4, 4), (2, 3), (2, 1)]\n",
        "for k in range(len(x)-1):\n",
        "  for i in range(len (x)-1):\n",
        "    if x[i][1] > x[i+1][1]:\n",
        "      x[i],x[i+1] = x[i+1],x[1]\n",
        "print(x) \n",
        "\n"
      ],
      "metadata": {
        "colab": {
          "base_uri": "https://localhost:8080/"
        },
        "id": "DSbuowUOgpQh",
        "outputId": "f2f0ddd7-a26e-4dac-aa5a-dc80c14eaf97"
      },
      "execution_count": null,
      "outputs": [
        {
          "output_type": "stream",
          "name": "stdout",
          "text": [
            "[(2, 1), (2, 1), (1, 2), (1, 2), (1, 2)]\n"
          ]
        }
      ]
    },
    {
      "cell_type": "code",
      "source": [
        "\n",
        "\n",
        "\n",
        "\n",
        "d1 = {'a': 100, 'b': 200, 'c':300}\n",
        "\n",
        "d2 = {'a': 300, 'b': 200, 'd':400}\n",
        "\n",
        "d3 = dict(d1)\n",
        "d3.update(d2)\n",
        "\n",
        "\n",
        "for x,y in d1.items():\n",
        "  for h,a in d2.items():\n",
        "    if x==h:\n",
        "      d3[x]=(y+a)\n",
        "print(d3)  \n",
        "\n"
      ],
      "metadata": {
        "colab": {
          "base_uri": "https://localhost:8080/"
        },
        "id": "_ey0hqpeAGU6",
        "outputId": "801a8e58-182f-4fd1-bb43-48ee179fc00c"
      },
      "execution_count": 5,
      "outputs": [
        {
          "output_type": "stream",
          "name": "stdout",
          "text": [
            "{'a': 400, 'b': 400, 'c': 300, 'd': 400}\n"
          ]
        }
      ]
    },
    {
      "cell_type": "code",
      "source": [
        "from re import I\n",
        "#que 4\n",
        "x = int(input())\n",
        "d1={}\n",
        "for i in range(1,x+1):\n",
        "  e=i*i \n",
        "  d1[i]=e\n",
        "print(d1)  \n",
        "\n",
        "\n"
      ],
      "metadata": {
        "colab": {
          "base_uri": "https://localhost:8080/"
        },
        "id": "PleQCTnYhIH4",
        "outputId": "e4db8597-f123-43e7-862d-c4ab0bb34c5b"
      },
      "execution_count": 23,
      "outputs": [
        {
          "output_type": "stream",
          "name": "stdout",
          "text": [
            "8\n",
            "{1: 1, 2: 4, 3: 9, 4: 16, 5: 25, 6: 36, 7: 49, 8: 64}\n"
          ]
        }
      ]
    },
    {
      "cell_type": "code",
      "source": [
        "#question5\n",
        "# [('item1', '12.20'), ('item2', '15.10'), ('item3', '24.5')]\n",
        "\n",
        "# [('item3', '24.5'), ('item2', '15.10'), ('item1', '12.20')]\n",
        "\n",
        "x = [('item1', '12.20'), ('item2', '15.10'), ('item3', '24.5')]\n",
        "for k in range(len(x)-1):\n",
        "  for i in range(len (x)-1):\n",
        "    if float(x[i][1]) < float(x[i+1][1]):\n",
        "      x[i],x[i+1] = x[i+1],x[1]\n",
        "print(x) \n",
        "\n",
        "\n"
      ],
      "metadata": {
        "colab": {
          "base_uri": "https://localhost:8080/"
        },
        "id": "Nw1sYmqoeR3x",
        "outputId": "7f7a693d-6592-46cc-cd6f-15555954b708"
      },
      "execution_count": 9,
      "outputs": [
        {
          "output_type": "stream",
          "name": "stdout",
          "text": [
            "[('item3', '24.5'), ('item3', '24.5'), ('item2', '15.10')]\n"
          ]
        }
      ]
    },
    {
      "cell_type": "code",
      "source": [],
      "metadata": {
        "id": "X7TW7EW9an8k"
      },
      "execution_count": null,
      "outputs": []
    }
  ]
}