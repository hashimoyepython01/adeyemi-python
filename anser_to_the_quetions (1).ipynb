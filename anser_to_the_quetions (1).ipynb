{
  "nbformat": 4,
  "nbformat_minor": 0,
  "metadata": {
    "colab": {
      "name": "anser to the quetions.ipynb",
      "provenance": [],
      "collapsed_sections": []
    },
    "kernelspec": {
      "name": "python3",
      "display_name": "Python 3"
    },
    "language_info": {
      "name": "python"
    }
  },
  "cells": [
    {
      "cell_type": "code",
      "execution_count": null,
      "metadata": {
        "colab": {
          "base_uri": "https://localhost:8080/"
        },
        "id": "xZ1mbSS22fOb",
        "outputId": "3a633714-6c9e-4974-d1d0-2a84c0afa3ce"
      },
      "outputs": [
        {
          "output_type": "stream",
          "name": "stdout",
          "text": [
            "what is your first name:ahmed\n",
            "what is your second name:mohamed\n",
            "mohamed ahmed\n"
          ]
        }
      ],
      "source": [
        "#Question 1\n",
        "x=input(\"what is your first name:\")\n",
        "\n",
        "\n",
        "z=input(\"what is your second name:\")\n",
        "\n",
        "print(z,x)"
      ]
    },
    {
      "cell_type": "code",
      "source": [
        ""
      ],
      "metadata": {
        "id": "PoKi4pjex2Hn"
      },
      "execution_count": null,
      "outputs": []
    },
    {
      "cell_type": "code",
      "source": [
        "#Question 2\n",
        "n=input()\n",
        "\n",
        "print(int(n) + int(n+n) + int(n+n+n))"
      ],
      "metadata": {
        "colab": {
          "base_uri": "https://localhost:8080/"
        },
        "id": "DLw18o_F8Qey",
        "outputId": "f53c7cb2-9e6b-4fd1-c22b-15226ee1382c"
      },
      "execution_count": null,
      "outputs": [
        {
          "output_type": "stream",
          "name": "stdout",
          "text": [
            "5\n",
            "615\n"
          ]
        }
      ]
    },
    {
      "cell_type": "code",
      "source": [
        "#question 3\n",
        "x=int(input())\n",
        "if x ==2:\n",
        " print(\"old\")\n",
        "elif x % 2 ==0:\n",
        "  print(\"even\")"
      ],
      "metadata": {
        "colab": {
          "base_uri": "https://localhost:8080/"
        },
        "id": "dmwNaf3JzhQG",
        "outputId": "61c75c04-626e-4961-d69a-bcfa94868058"
      },
      "execution_count": 2,
      "outputs": [
        {
          "output_type": "stream",
          "name": "stdout",
          "text": [
            "4\n",
            "even\n"
          ]
        }
      ]
    },
    {
      "cell_type": "code",
      "source": [
        "#question 4\n",
        "for i in range (2000,3201):\n",
        "  if i % 7==0 and i % 5!=0:\n",
        "    print (i, end=\",\") "
      ],
      "metadata": {
        "colab": {
          "base_uri": "https://localhost:8080/"
        },
        "id": "3semM9Wg08YY",
        "outputId": "780be30c-84b7-4b12-8562-018b3cfc94f0"
      },
      "execution_count": 4,
      "outputs": [
        {
          "output_type": "stream",
          "name": "stdout",
          "text": [
            "2002,2009,2016,2023,2037,2044,2051,2058,2072,2079,2086,2093,2107,2114,2121,2128,2142,2149,2156,2163,2177,2184,2191,2198,2212,2219,2226,2233,2247,2254,2261,2268,2282,2289,2296,2303,2317,2324,2331,2338,2352,2359,2366,2373,2387,2394,2401,2408,2422,2429,2436,2443,2457,2464,2471,2478,2492,2499,2506,2513,2527,2534,2541,2548,2562,2569,2576,2583,2597,2604,2611,2618,2632,2639,2646,2653,2667,2674,2681,2688,2702,2709,2716,2723,2737,2744,2751,2758,2772,2779,2786,2793,2807,2814,2821,2828,2842,2849,2856,2863,2877,2884,2891,2898,2912,2919,2926,2933,2947,2954,2961,2968,2982,2989,2996,3003,3017,3024,3031,3038,3052,3059,3066,3073,3087,3094,3101,3108,3122,3129,3136,3143,3157,3164,3171,3178,3192,3199,"
          ]
        }
      ]
    },
    {
      "cell_type": "code",
      "source": [
        "#quetion 5\n",
        "x =int(input())\n",
        "y=1\n",
        "for i in range(1,5):\n",
        "  y=y*i\n",
        "  print(y)"
      ],
      "metadata": {
        "colab": {
          "base_uri": "https://localhost:8080/"
        },
        "id": "HfIukdtG3E7o",
        "outputId": "3451145a-3b26-4e52-9b09-78c7439c0eac"
      },
      "execution_count": 7,
      "outputs": [
        {
          "output_type": "stream",
          "name": "stdout",
          "text": [
            "5\n",
            "1\n",
            "2\n",
            "6\n",
            "24\n"
          ]
        }
      ]
    },
    {
      "cell_type": "code",
      "source": [
        "#qeution6\n",
        "x= \"hello team\"\n",
        "y=\"\"\n",
        "for i in range (len(x)):\n",
        "  if i % 2==0:\n",
        "   y=y+x[i]\n",
        "  print(y) \n"
      ],
      "metadata": {
        "colab": {
          "base_uri": "https://localhost:8080/"
        },
        "id": "Q2Q0Ru6D4MUr",
        "outputId": "66497bd3-9ab8-49fa-d350-fe175d1d9d2c"
      },
      "execution_count": 10,
      "outputs": [
        {
          "output_type": "stream",
          "name": "stdout",
          "text": [
            "h\n",
            "h\n",
            "hl\n",
            "hl\n",
            "hlo\n",
            "hlo\n",
            "hlot\n",
            "hlot\n",
            "hlota\n",
            "hlota\n"
          ]
        }
      ]
    },
    {
      "cell_type": "code",
      "source": [
        "#quetion7\n",
        "x=int(input())\n",
        "if x >=500:\n",
        "  dis=0.5*x\n",
        "  dp=0.5*x\n",
        "  print(\"the discount =\",dis,\", and the discounted price=\",dp)\n",
        "elif x >200 and x <500:\n",
        "  dis=0.7*x\n",
        "  dp=0.7*x \n",
        "  print(\"the discount=\",dis,\",  and the discounted price=\",dp)\n",
        "else:\n",
        "  dis=0.9*x\n",
        "  dp=0.9*x\n",
        "  print(\"the discount =\", dis,\", and the discountrd price=\",dp)\n"
      ],
      "metadata": {
        "id": "YFokf04Iy5hw"
      },
      "execution_count": null,
      "outputs": []
    }
  ]
}