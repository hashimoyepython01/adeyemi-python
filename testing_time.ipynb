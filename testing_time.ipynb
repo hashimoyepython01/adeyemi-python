{
  "nbformat": 4,
  "nbformat_minor": 0,
  "metadata": {
    "colab": {
      "provenance": []
    },
    "kernelspec": {
      "name": "python3",
      "display_name": "Python 3"
    },
    "language_info": {
      "name": "python"
    }
  },
  "cells": [
    {
      "cell_type": "code",
      "source": [
        "import time\n",
        "\n",
        "seconds = int(input(\"Please enter the number of seconds : \"))\n",
        "\n",
        "def countdown(t):\n",
        "    while t:\n",
        "        mins = t // 60\n",
        "        secs = t % 60\n",
        "        timeformat = '{:02d}:{:02d}'.format(mins, secs)\n",
        "        print(\"\\r\",timeformat, end=\"\")\n",
        "        time.sleep(2)\n",
        "        t -= 1\n",
        "    print(\"\\r\",\"Fire in the hole!!\")\n",
        "\n",
        "\n",
        "\n",
        "countdown(seconds)\n",
        "\n"
      ],
      "metadata": {
        "id": "7TcB0307QIQ7",
        "colab": {
          "base_uri": "https://localhost:8080/"
        },
        "outputId": "ddb505af-293a-48cc-d082-5925e8e12a7e"
      },
      "execution_count": 20,
      "outputs": [
        {
          "output_type": "stream",
          "name": "stdout",
          "text": [
            "Please enter the number of seconds : 2\n",
            " Fire in the hole!!\n"
          ]
        }
      ]
    },
    {
      "cell_type": "code",
      "source": [
        "\n"
      ],
      "metadata": {
        "id": "4iOIsNslQIpU"
      },
      "execution_count": null,
      "outputs": []
    }
  ]
}