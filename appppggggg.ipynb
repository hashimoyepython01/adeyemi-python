{
  "nbformat": 4,
  "nbformat_minor": 0,
  "metadata": {
    "colab": {
      "provenance": []
    },
    "kernelspec": {
      "name": "python3",
      "display_name": "Python 3"
    },
    "language_info": {
      "name": "python"
    }
  },
  "cells": [
    {
      "cell_type": "code",
      "source": [
        "#que1\n",
        "def binary_search(x,wanted):\n",
        "\n",
        "    begin_index = 0\n",
        "    end_index = len(x)-1\n",
        "\n",
        "    while begin_index <= end_index:\n",
        "      midpoint = begin_index + (end_index - begin_index) // 2 \n",
        "      print(midpoint)\n",
        "      midpoint_value = x[midpoint]\n",
        "      if wanted == midpoint_value:\n",
        "        return midpoint \n",
        "      elif wanted < midpoint_value:\n",
        "        end_index = midpoint - 1\n",
        "      else:\n",
        "        begin_index = midpoint + 1\n",
        "    return \"not found\"\n",
        "\n",
        "\n",
        "list1 = [20,30,40,50,60,70,80,90,100,110,120]\n",
        "# print(binary_search(list1,55))\n",
        "print(binary_search(list1,100)) \n",
        "\n",
        "\n",
        "\n"
      ],
      "metadata": {
        "colab": {
          "base_uri": "https://localhost:8080/"
        },
        "id": "w5vzvjQmdhmk",
        "outputId": "9b6e4bc8-deaa-42f7-9c63-a92c8795206b"
      },
      "execution_count": null,
      "outputs": [
        {
          "output_type": "stream",
          "name": "stdout",
          "text": [
            "5\n",
            "8\n",
            "8\n"
          ]
        }
      ]
    },
    {
      "cell_type": "code",
      "source": [
        "def power(base,pow):\n",
        "  if pow==0:\n",
        "    return 1\n",
        "  else:\n",
        "    return base*power(base,pow -1)  \n",
        "power(4,4)   "
      ],
      "metadata": {
        "colab": {
          "base_uri": "https://localhost:8080/"
        },
        "id": "KGwgZAEC0TBb",
        "outputId": "440cdc70-e97e-4ec5-fd8f-09146d719a6a"
      },
      "execution_count": 3,
      "outputs": [
        {
          "output_type": "execute_result",
          "data": {
            "text/plain": [
              "256"
            ]
          },
          "metadata": {},
          "execution_count": 3
        }
      ]
    },
    {
      "cell_type": "code",
      "source": [
        "#bubble sort\n",
        "x =  [29,13,22,37,52,49,46,71,56]\n",
        "\n",
        "for j in range(len(x)-1):\n",
        "  for i in range(len(x)-1):\n",
        "    if x[i] > x[i+1]:\n",
        "      x[i] , x[i+1] = x[i+1] , x[i]\n",
        "  print(x)"
      ],
      "metadata": {
        "colab": {
          "base_uri": "https://localhost:8080/"
        },
        "id": "Ac9z05inh5x3",
        "outputId": "f162e5b9-fc84-4cbe-89bf-b1a294c16cf3"
      },
      "execution_count": null,
      "outputs": [
        {
          "output_type": "stream",
          "name": "stdout",
          "text": [
            "[13, 22, 29, 37, 49, 46, 52, 56, 71]\n",
            "[13, 22, 29, 37, 46, 49, 52, 56, 71]\n",
            "[13, 22, 29, 37, 46, 49, 52, 56, 71]\n",
            "[13, 22, 29, 37, 46, 49, 52, 56, 71]\n",
            "[13, 22, 29, 37, 46, 49, 52, 56, 71]\n",
            "[13, 22, 29, 37, 46, 49, 52, 56, 71]\n",
            "[13, 22, 29, 37, 46, 49, 52, 56, 71]\n",
            "[13, 22, 29, 37, 46, 49, 52, 56, 71]\n"
          ]
        }
      ]
    },
    {
      "cell_type": "code",
      "source": [
        "def mergeSort(liss):\n",
        "    if len(liss) > 1:\n",
        "        mid = len(liss) // 2\n",
        "        left_list=liss[:mid]\n",
        "        right_list=liss[mid:]\n",
        "\n",
        "        mergeSort(left_list)\n",
        "        mergeSort(right_list)\n",
        "        i = 0\n",
        "        j = 0\n",
        "        k = 0\n",
        "        while i < len(left_list) and j < len(right_list):\n",
        "            if left_list[i] <= right_list[j]:\n",
        "                liss[k] = left_list[i]\n",
        "                i += 1\n",
        "            else:\n",
        "                liss[k] = right_list[j]\n",
        "                j += 1\n",
        "            k += 1\n",
        "\n",
        "\n",
        "        while i < len(left_list):\n",
        "            liss[k] = left_list[i]\n",
        "            i += 1\n",
        "            k += 1\n",
        "        while j < len(right_list):\n",
        "            liss[k] = right_list[j]\n",
        "            j += 1\n",
        "            k += 1\n",
        "\n",
        "\n",
        "\n",
        "\n",
        "myList = [29,13,22,37,52,49,46,71,56]\n",
        "mergeSort(myList)\n",
        "print(myList)"
      ],
      "metadata": {
        "colab": {
          "base_uri": "https://localhost:8080/"
        },
        "id": "HfaRmhAsiOmR",
        "outputId": "efe4befb-1896-4ec5-a045-a1ce1685e37d"
      },
      "execution_count": null,
      "outputs": [
        {
          "output_type": "stream",
          "name": "stdout",
          "text": [
            "[13, 13, 22, 37, 52, 49, 46, 71, 56]\n"
          ]
        }
      ]
    },
    {
      "cell_type": "code",
      "source": [
        "def quick_sort(sequence):\n",
        "    length = len(sequence)                                    \n",
        "    if length <= 1:\n",
        "        return sequence                                            \n",
        "    else :\n",
        "        pivot = sequence.pop()\n",
        "    items_greater = []\n",
        "    items_lower = []\n",
        "    for items in sequence:\n",
        "        if items > pivot:\n",
        "            items_greater.append(items)\n",
        "        else:\n",
        "            items_lower.append(items)\n",
        "    return quick_sort(items_lower) + [pivot] + quick_sort(items_greater)\n",
        "x = [29,13,22,37,52,49,46,71,56]\n",
        "print(quick_sort(x))"
      ],
      "metadata": {
        "id": "kL020E26nCpK"
      },
      "execution_count": null,
      "outputs": []
    },
    {
      "cell_type": "code",
      "source": [],
      "metadata": {
        "id": "BV1fFssopYtI"
      },
      "execution_count": null,
      "outputs": []
    }
  ]
}