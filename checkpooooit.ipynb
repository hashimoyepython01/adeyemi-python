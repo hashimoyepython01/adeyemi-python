{
  "nbformat": 4,
  "nbformat_minor": 0,
  "metadata": {
    "colab": {
      "provenance": []
    },
    "kernelspec": {
      "name": "python3",
      "display_name": "Python 3"
    },
    "language_info": {
      "name": "python"
    }
  },
  "cells": [
    {
      "cell_type": "code",
      "execution_count": 2,
      "metadata": {
        "colab": {
          "base_uri": "https://localhost:8080/"
        },
        "id": "yjepnZ8gJKin",
        "outputId": "a56b4c27-f2ba-4e37-e0e7-5c6ce04c4df0"
      },
      "outputs": [
        {
          "output_type": "stream",
          "name": "stdout",
          "text": [
            "35\n"
          ]
        }
      ],
      "source": [
        "#que 1\n",
        "def maxx(a,b,c):\n",
        "  if a>b and a>c:\n",
        "    return a\n",
        "  elif b>a and b>c:\n",
        "    return b\n",
        "  else:\n",
        "    return c\n",
        "print(maxx(20,35,19))"
      ]
    },
    {
      "cell_type": "code",
      "source": [
        "#que 2\n",
        "def summ(a,b):\n",
        "  return a + b, a-b\n",
        "print(summ(40,10))"
      ],
      "metadata": {
        "colab": {
          "base_uri": "https://localhost:8080/"
        },
        "id": "VoiDOR-fJm2v",
        "outputId": "8c979023-adde-4528-a2f6-0298aff9607d"
      },
      "execution_count": 3,
      "outputs": [
        {
          "output_type": "stream",
          "name": "stdout",
          "text": [
            "(50, 30)\n"
          ]
        }
      ]
    },
    {
      "cell_type": "code",
      "source": [
        "# que3\n",
        "liste= [1,2,3,4,5,6,6,7,8]\n",
        "\n",
        "def sum (aaa):\n",
        "  sum=0\n",
        "  for i in aaa:\n",
        "    sum +=i\n",
        "  return sum\n",
        "\n",
        "print(sum(liste))\n",
        "\n",
        "def mult(bb):\n",
        "  mult =1\n",
        "  for i in bb:\n",
        "    mult *= i\n",
        "  return mult\n",
        "print(mult(liste)) \n",
        "\n",
        "\n",
        "even =[]\n",
        "odd = []\n",
        "for i in range(len(liste)):\n",
        "  if i % 2 ==0:\n",
        "    even.append(liste[i])\n",
        "  else:\n",
        "    odd.append(liste[i])  \n",
        "\n",
        "print(sum(even))    \n",
        "print(mult(odd))\n",
        "    \n"
      ],
      "metadata": {
        "colab": {
          "base_uri": "https://localhost:8080/"
        },
        "id": "uaewNfx2Kp_C",
        "outputId": "781a46d6-1eda-4c93-d046-638a3e8782a7"
      },
      "execution_count": 5,
      "outputs": [
        {
          "output_type": "stream",
          "name": "stdout",
          "text": [
            "42\n",
            "241920\n",
            "23\n",
            "336\n"
          ]
        }
      ]
    },
    {
      "cell_type": "code",
      "source": [
        "#que4\n",
        "x=\"green,red,yellow,black,white\"\n",
        "y=x.split(\",\")\n",
        "y.sort()\n",
        "print(\",\" .join(y))\n"
      ],
      "metadata": {
        "colab": {
          "base_uri": "https://localhost:8080/"
        },
        "id": "S5s9ttaBKxa8",
        "outputId": "93c5fab4-47a5-424f-a769-1208dafa2d00"
      },
      "execution_count": 6,
      "outputs": [
        {
          "output_type": "stream",
          "name": "stdout",
          "text": [
            "black,green,red,white,yellow\n"
          ]
        }
      ]
    },
    {
      "cell_type": "code",
      "source": [
        "#que5\n",
        "def di(D):\n",
        "  return int(((2 * 50 * D)/30)**0.5)\n",
        "x=input().split (\",\")\n",
        "\n",
        "for i in x:\n",
        "  print(di(int(i)), end=\" \")"
      ],
      "metadata": {
        "colab": {
          "base_uri": "https://localhost:8080/"
        },
        "id": "f4wl6qPNLtf1",
        "outputId": "611e56ea-3fb0-488f-8796-33e7a4c90c35"
      },
      "execution_count": 8,
      "outputs": [
        {
          "output_type": "stream",
          "name": "stdout",
          "text": [
            "100,150,180\n",
            "18 22 24 "
          ]
        }
      ]
    },
    {
      "cell_type": "code",
      "source": [],
      "metadata": {
        "id": "Ve5IcQJMLtPc"
      },
      "execution_count": null,
      "outputs": []
    }
  ]
}